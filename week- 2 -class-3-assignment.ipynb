{
 "cells": [
  {
   "cell_type": "markdown",
   "id": "49b0479d",
   "metadata": {},
   "source": [
    "# Assignment 1: String Concatenation and Formatting"
   ]
  },
  {
   "cell_type": "code",
   "execution_count": 10,
   "id": "e4eb7b67",
   "metadata": {},
   "outputs": [
    {
     "name": "stdout",
     "output_type": "stream",
     "text": [
      "My name is Asfa Tabish, I am 22 years old, and I live in Pakistan.\n"
     ]
    }
   ],
   "source": [
    "# Step 1. Create a variable `name` and assign your name to it.\n",
    "name = \"Asfa Tabish\"\n",
    "\n",
    "# Step 2. Create a variable `age` and assign your age to it.\n",
    "age = 22\n",
    "\n",
    "# Step 3. Create a variable `country` and assign your country of residence to it.\n",
    "country = \"Pakistan\"\n",
    "\n",
    "# Step 4. Using the `+` operator, concatenate the variables to form a sentence.\n",
    "sentence = \"My name is \" + name + \", I am \" + str(age) + \" years old, and I live in \" + country + \".\"\n",
    "\n",
    "# Step 5. Print the concatenated sentence.\n",
    "print(sentence)"
   ]
  },
  {
   "cell_type": "markdown",
   "id": "d48ebb1b",
   "metadata": {},
   "source": [
    "# Assignment 2: String Formatting using `.format()`"
   ]
  },
  {
   "cell_type": "code",
   "execution_count": 12,
   "id": "2b140d1c",
   "metadata": {},
   "outputs": [
    {
     "name": "stdout",
     "output_type": "stream",
     "text": [
      "I bought 20 laptop(s) at 70000 each, for a total of $1400000.00.\n"
     ]
    }
   ],
   "source": [
    "# 1. Create a variable `item` and assign a product name to it.\n",
    "item = \"laptop\"\n",
    "\n",
    "# 2. Create a variable `price` and assign a price to the item.\n",
    "price = 70000\n",
    "\n",
    "# 3. Create a variable `quantity` and assign a quantity value.\n",
    "quantity = 20\n",
    "\n",
    "# 4. Calculate the total cost using the formula: total_cost = price * quantity.\n",
    "total_cost = price * quantity\n",
    "\n",
    "# 5. Using the .format() method, create a formatted string.\n",
    "formatted_string = \"I bought {} {}(s) at {} each, for a total of ${:.2f}.\".format(quantity, item, price, total_cost)\n",
    "\n",
    "# 6. Print the formatted string.\n",
    "print(formatted_string)\n"
   ]
  },
  {
   "cell_type": "markdown",
   "id": "7092c939",
   "metadata": {},
   "source": [
    "# Assignment 3: String Interpolation using `f''`"
   ]
  },
  {
   "cell_type": "code",
   "execution_count": 11,
   "id": "f6ac22f8",
   "metadata": {},
   "outputs": [
    {
     "name": "stdout",
     "output_type": "stream",
     "text": [
      "The temperature in Karachi is 31°C.\n"
     ]
    }
   ],
   "source": [
    "# Step 1\n",
    "city = \"Karachi\"  \n",
    "\n",
    "# Step 2\n",
    "temperature = 31  \n",
    "\n",
    "# Step 3\n",
    "sentence = f\"The temperature in {city} is {temperature}°C.\"\n",
    "\n",
    "# Step 4\n",
    "print(sentence)"
   ]
  },
  {
   "cell_type": "markdown",
   "id": "42c685eb",
   "metadata": {},
   "source": [
    "# Assignment 4: String Formatting using `%()`**"
   ]
  },
  {
   "cell_type": "code",
   "execution_count": 13,
   "id": "ef8e4f1d",
   "metadata": {},
   "outputs": [
    {
     "name": "stdout",
     "output_type": "stream",
     "text": [
      "My name is Asfa Tabish. I am 22 years old.\n"
     ]
    }
   ],
   "source": [
    "# Step 1\n",
    "first_name = \"Asfa\"  \n",
    "\n",
    "# Step 2\n",
    "last_name = \"Tabish\"  \n",
    "\n",
    "# Step 3\n",
    "birth_year = 2001  \n",
    "\n",
    "# Step 4\n",
    "import datetime\n",
    "current_year = datetime.datetime.now().year\n",
    "age = current_year - birth_year\n",
    "\n",
    "# Step 5\n",
    "formatted_string = \"My name is %(first_name)s %(last_name)s. I am %(age)d years old.\"\n",
    "\n",
    "# Step 6\n",
    "print(formatted_string % {\"first_name\": first_name, \"last_name\": last_name, \"age\": age})"
   ]
  },
  {
   "cell_type": "markdown",
   "id": "daa4c59d",
   "metadata": {},
   "source": [
    "# Assignment 5: Combining Formatting Methods  (`+`, `.format()`, `f''`, `%()`), String Formatting using .format() Method**"
   ]
  },
  {
   "cell_type": "code",
   "execution_count": 9,
   "id": "b8d65586",
   "metadata": {},
   "outputs": [
    {
     "name": "stdout",
     "output_type": "stream",
     "text": [
      "Product: Book\n",
      "Original Price: $500.00\n",
      "Discount: 20%\n",
      "Discounted Price: $400.00\n"
     ]
    }
   ],
   "source": [
    "# Step 1\n",
    "product = \"Book\"\n",
    "\n",
    "# Step 2\n",
    "discount = 20\n",
    "\n",
    "# Step 3\n",
    "original_price = 500\n",
    "\n",
    "# Step 4\n",
    "discounted_price = original_price * (1 - discount / 100)\n",
    "\n",
    "# Step 5\n",
    "descriptive_string = \"Product: {}\\nOriginal Price: ${:.2f}\\nDiscount: {}%\\nDiscounted Price: ${:.2f}\".format(\n",
    "    product, original_price, discount, discounted_price)\n",
    "\n",
    "# Step 6\n",
    "print(descriptive_string)"
   ]
  },
  {
   "cell_type": "code",
   "execution_count": null,
   "id": "3e0246f1",
   "metadata": {},
   "outputs": [],
   "source": []
  }
 ],
 "metadata": {
  "kernelspec": {
   "display_name": "Python 3 (ipykernel)",
   "language": "python",
   "name": "python3"
  },
  "language_info": {
   "codemirror_mode": {
    "name": "ipython",
    "version": 3
   },
   "file_extension": ".py",
   "mimetype": "text/x-python",
   "name": "python",
   "nbconvert_exporter": "python",
   "pygments_lexer": "ipython3",
   "version": "3.11.3"
  }
 },
 "nbformat": 4,
 "nbformat_minor": 5
}
